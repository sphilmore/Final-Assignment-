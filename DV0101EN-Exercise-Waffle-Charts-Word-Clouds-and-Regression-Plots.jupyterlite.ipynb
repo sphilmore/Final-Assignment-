{
  "metadata": {
    "kernelspec": {
      "name": "python",
      "display_name": "Pyolite",
      "language": "python"
    },
    "language_info": {
      "codemirror_mode": {
        "name": "python",
        "version": 3
      },
      "file_extension": ".py",
      "mimetype": "text/x-python",
      "name": "python",
      "nbconvert_exporter": "python",
      "pygments_lexer": "ipython3",
      "version": "3.8"
    },
    "widgets": {
      "state": {},
      "version": "1.1.2"
    }
  },
  "nbformat_minor": 4,
  "nbformat": 4,
  "cells": [
    {
      "cell_type": "markdown",
      "source": "<center>\n    <img src=\"https://cf-courses-data.s3.us.cloud-object-storage.appdomain.cloud/IBMDeveloperSkillsNetwork-DV0101EN-SkillsNetwork/labs/Module%204/logo.png\" width=\"300\" alt=\"cognitiveclass.ai logo\"  />\n</center>\n\n# Waffle Charts, Word Clouds, and Regression Plots\n\nEstimated time needed: **30** minutes\n\n## Objectives\n\nAfter completing this lab you will be able to:\n\n*   Create Word cloud and Waffle charts\n*   Create regression plots with Seaborn library\n",
      "metadata": {
        "button": false,
        "new_sheet": false,
        "run_control": {
          "read_only": false
        }
      }
    },
    {
      "cell_type": "markdown",
      "source": "## Table of Contents\n\n<div class=\"alert alert-block alert-info\" style=\"margin-top: 20px\">\n\n1.  [Exploring Datasets with *p*andas](#0)<br>\n2.  [Downloading and Prepping Data](#2)<br>\n3.  [Visualizing Data using Matplotlib](#4) <br>\n4.  [Waffle Charts](#6) <br>\n5.  [Word Clouds](#8) <br>\n6.  [Regression Plots](#10) <br>\n\n</div>\n",
      "metadata": {
        "button": false,
        "new_sheet": false,
        "run_control": {
          "read_only": false
        }
      }
    },
    {
      "cell_type": "markdown",
      "source": "# Exploring Datasets with *pandas* and Matplotlib<a id=\"0\"></a>\n\nToolkits: The course heavily relies on [*pandas*](http://pandas.pydata.org/?utm_medium=Exinfluencer&utm_source=Exinfluencer&utm_content=000026UJ&utm_term=10006555&utm_id=NA-SkillsNetwork-Channel-SkillsNetworkCoursesIBMDeveloperSkillsNetworkDV0101ENSkillsNetwork20297740-2021-01-01) and [*Numpy*](http://www.numpy.org/?utm_medium=Exinfluencer&utm_source=Exinfluencer&utm_content=000026UJ&utm_term=10006555&utm_id=NA-SkillsNetwork-Channel-SkillsNetworkCoursesIBMDeveloperSkillsNetworkDV0101ENSkillsNetwork20297740-2021-01-01) for data wrangling, analysis, and visualization. The primary plotting library we will explore in the course is [Matplotlib](http://matplotlib.org/?utm_medium=Exinfluencer&utm_source=Exinfluencer&utm_content=000026UJ&utm_term=10006555&utm_id=NA-SkillsNetwork-Channel-SkillsNetworkCoursesIBMDeveloperSkillsNetworkDV0101ENSkillsNetwork20297740-2021-01-01).\n\nDataset: Immigration to Canada from 1980 to 2013 - [International migration flows to and from selected countries - The 2015 revision](http://www.un.org/en/development/desa/population/migration/data/empirical2/migrationflows.shtml?utm_medium=Exinfluencer&utm_source=Exinfluencer&utm_content=000026UJ&utm_term=10006555&utm_id=NA-SkillsNetwork-Channel-SkillsNetworkCoursesIBMDeveloperSkillsNetworkDV0101ENSkillsNetwork20297740-2021-01-01) from United Nation's website\n\nThe dataset contains annual data on the flows of international migrants as recorded by the countries of destination. The data presents both inflows and outflows according to the place of birth, citizenship or place of previous / next residence both for foreigners and nationals. In this lab, we will focus on the Canadian Immigration data.\n",
      "metadata": {
        "button": false,
        "new_sheet": false,
        "run_control": {
          "read_only": false
        }
      }
    },
    {
      "cell_type": "markdown",
      "source": "# Downloading and Prepping Data <a id=\"2\"></a>\n",
      "metadata": {
        "button": false,
        "new_sheet": false,
        "run_control": {
          "read_only": false
        }
      }
    },
    {
      "cell_type": "markdown",
      "source": "The first thing we'll do is install **openpyxl** (formerly **xlrd**), a module that *pandas* requires to read Excel files.\n",
      "metadata": {}
    },
    {
      "cell_type": "code",
      "source": "import piplite\n\nawait piplite.install(['openpyxl==3.0.9', 'seaborn'])",
      "metadata": {
        "trusted": true
      },
      "execution_count": 3,
      "outputs": []
    },
    {
      "cell_type": "markdown",
      "source": "Import Primary Modules:\n",
      "metadata": {
        "button": false,
        "new_sheet": false,
        "run_control": {
          "read_only": false
        }
      }
    },
    {
      "cell_type": "code",
      "source": "import numpy as np  # useful for many scientific computing in Python\nimport pandas as pd # primary data structure library\nfrom PIL import Image # converting images into arrays",
      "metadata": {
        "button": false,
        "new_sheet": false,
        "run_control": {
          "read_only": false
        },
        "trusted": true
      },
      "execution_count": 4,
      "outputs": []
    },
    {
      "cell_type": "markdown",
      "source": "Download the Canadian Immigration dataset and read it into a *pandas* dataframe.\n",
      "metadata": {
        "button": false,
        "new_sheet": false,
        "run_control": {
          "read_only": false
        }
      }
    },
    {
      "cell_type": "code",
      "source": "from js import fetch\nimport io\n\nURL = 'https://cf-courses-data.s3.us.cloud-object-storage.appdomain.cloud/IBMDeveloperSkillsNetwork-DV0101EN-SkillsNetwork/Data%20Files/Canada.xlsx'\nresp = await fetch(URL)\ntext = io.BytesIO((await resp.arrayBuffer()).to_py())\n\ndf_can = pd.read_excel(\n    text,\n    sheet_name='Canada by Citizenship',\n    skiprows=range(20),\n    skipfooter=2)\n\nprint('Data downloaded and read into a dataframe!')",
      "metadata": {
        "button": false,
        "new_sheet": false,
        "run_control": {
          "read_only": false
        },
        "trusted": true
      },
      "execution_count": 5,
      "outputs": [
        {
          "name": "stdout",
          "text": "Data downloaded and read into a dataframe!\n",
          "output_type": "stream"
        }
      ]
    },
    {
      "cell_type": "markdown",
      "source": "Let's take a look at the first five items in our dataset\n",
      "metadata": {
        "button": false,
        "new_sheet": false,
        "run_control": {
          "read_only": false
        }
      }
    },
    {
      "cell_type": "code",
      "source": "df_can.head()",
      "metadata": {
        "button": false,
        "new_sheet": false,
        "run_control": {
          "read_only": false
        },
        "trusted": true
      },
      "execution_count": 6,
      "outputs": [
        {
          "execution_count": 6,
          "output_type": "execute_result",
          "data": {
            "text/plain": "         Type    Coverage          OdName  AREA AreaName   REG  \\\n0  Immigrants  Foreigners     Afghanistan   935     Asia  5501   \n1  Immigrants  Foreigners         Albania   908   Europe   925   \n2  Immigrants  Foreigners         Algeria   903   Africa   912   \n3  Immigrants  Foreigners  American Samoa   909  Oceania   957   \n4  Immigrants  Foreigners         Andorra   908   Europe   925   \n\n           RegName  DEV             DevName  1980  ...  2004  2005  2006  \\\n0    Southern Asia  902  Developing regions    16  ...  2978  3436  3009   \n1  Southern Europe  901   Developed regions     1  ...  1450  1223   856   \n2  Northern Africa  902  Developing regions    80  ...  3616  3626  4807   \n3        Polynesia  902  Developing regions     0  ...     0     0     1   \n4  Southern Europe  901   Developed regions     0  ...     0     0     1   \n\n   2007  2008  2009  2010  2011  2012  2013  \n0  2652  2111  1746  1758  2203  2635  2004  \n1   702   560   716   561   539   620   603  \n2  3623  4005  5393  4752  4325  3774  4331  \n3     0     0     0     0     0     0     0  \n4     1     0     0     0     0     1     1  \n\n[5 rows x 43 columns]",
            "text/html": "<div>\n<style scoped>\n    .dataframe tbody tr th:only-of-type {\n        vertical-align: middle;\n    }\n\n    .dataframe tbody tr th {\n        vertical-align: top;\n    }\n\n    .dataframe thead th {\n        text-align: right;\n    }\n</style>\n<table border=\"1\" class=\"dataframe\">\n  <thead>\n    <tr style=\"text-align: right;\">\n      <th></th>\n      <th>Type</th>\n      <th>Coverage</th>\n      <th>OdName</th>\n      <th>AREA</th>\n      <th>AreaName</th>\n      <th>REG</th>\n      <th>RegName</th>\n      <th>DEV</th>\n      <th>DevName</th>\n      <th>1980</th>\n      <th>...</th>\n      <th>2004</th>\n      <th>2005</th>\n      <th>2006</th>\n      <th>2007</th>\n      <th>2008</th>\n      <th>2009</th>\n      <th>2010</th>\n      <th>2011</th>\n      <th>2012</th>\n      <th>2013</th>\n    </tr>\n  </thead>\n  <tbody>\n    <tr>\n      <th>0</th>\n      <td>Immigrants</td>\n      <td>Foreigners</td>\n      <td>Afghanistan</td>\n      <td>935</td>\n      <td>Asia</td>\n      <td>5501</td>\n      <td>Southern Asia</td>\n      <td>902</td>\n      <td>Developing regions</td>\n      <td>16</td>\n      <td>...</td>\n      <td>2978</td>\n      <td>3436</td>\n      <td>3009</td>\n      <td>2652</td>\n      <td>2111</td>\n      <td>1746</td>\n      <td>1758</td>\n      <td>2203</td>\n      <td>2635</td>\n      <td>2004</td>\n    </tr>\n    <tr>\n      <th>1</th>\n      <td>Immigrants</td>\n      <td>Foreigners</td>\n      <td>Albania</td>\n      <td>908</td>\n      <td>Europe</td>\n      <td>925</td>\n      <td>Southern Europe</td>\n      <td>901</td>\n      <td>Developed regions</td>\n      <td>1</td>\n      <td>...</td>\n      <td>1450</td>\n      <td>1223</td>\n      <td>856</td>\n      <td>702</td>\n      <td>560</td>\n      <td>716</td>\n      <td>561</td>\n      <td>539</td>\n      <td>620</td>\n      <td>603</td>\n    </tr>\n    <tr>\n      <th>2</th>\n      <td>Immigrants</td>\n      <td>Foreigners</td>\n      <td>Algeria</td>\n      <td>903</td>\n      <td>Africa</td>\n      <td>912</td>\n      <td>Northern Africa</td>\n      <td>902</td>\n      <td>Developing regions</td>\n      <td>80</td>\n      <td>...</td>\n      <td>3616</td>\n      <td>3626</td>\n      <td>4807</td>\n      <td>3623</td>\n      <td>4005</td>\n      <td>5393</td>\n      <td>4752</td>\n      <td>4325</td>\n      <td>3774</td>\n      <td>4331</td>\n    </tr>\n    <tr>\n      <th>3</th>\n      <td>Immigrants</td>\n      <td>Foreigners</td>\n      <td>American Samoa</td>\n      <td>909</td>\n      <td>Oceania</td>\n      <td>957</td>\n      <td>Polynesia</td>\n      <td>902</td>\n      <td>Developing regions</td>\n      <td>0</td>\n      <td>...</td>\n      <td>0</td>\n      <td>0</td>\n      <td>1</td>\n      <td>0</td>\n      <td>0</td>\n      <td>0</td>\n      <td>0</td>\n      <td>0</td>\n      <td>0</td>\n      <td>0</td>\n    </tr>\n    <tr>\n      <th>4</th>\n      <td>Immigrants</td>\n      <td>Foreigners</td>\n      <td>Andorra</td>\n      <td>908</td>\n      <td>Europe</td>\n      <td>925</td>\n      <td>Southern Europe</td>\n      <td>901</td>\n      <td>Developed regions</td>\n      <td>0</td>\n      <td>...</td>\n      <td>0</td>\n      <td>0</td>\n      <td>1</td>\n      <td>1</td>\n      <td>0</td>\n      <td>0</td>\n      <td>0</td>\n      <td>0</td>\n      <td>1</td>\n      <td>1</td>\n    </tr>\n  </tbody>\n</table>\n<p>5 rows × 43 columns</p>\n</div>"
          },
          "metadata": {}
        }
      ]
    },
    {
      "cell_type": "markdown",
      "source": "Let's find out how many entries there are in our dataset\n",
      "metadata": {
        "button": false,
        "new_sheet": false,
        "run_control": {
          "read_only": false
        }
      }
    },
    {
      "cell_type": "code",
      "source": "# print the dimensions of the dataframe\nprint(df_can.shape)",
      "metadata": {
        "button": false,
        "new_sheet": false,
        "run_control": {
          "read_only": false
        },
        "trusted": true
      },
      "execution_count": 7,
      "outputs": [
        {
          "name": "stdout",
          "text": "(195, 43)\n",
          "output_type": "stream"
        }
      ]
    },
    {
      "cell_type": "markdown",
      "source": "Clean up data. We will make some modifications to the original dataset to make it easier to create our visualizations. Refer to *Introduction to Matplotlib and Line Plots* and *Area Plots, Histograms, and Bar Plots* for a detailed description of this preprocessing.\n",
      "metadata": {
        "button": false,
        "new_sheet": false,
        "run_control": {
          "read_only": false
        }
      }
    },
    {
      "cell_type": "code",
      "source": "# clean up the dataset to remove unnecessary columns (eg. REG) \ndf_can.drop(['AREA','REG','DEV','Type','Coverage'], axis = 1, inplace = True)\n\n# let's rename the columns so that they make sense\ndf_can.rename (columns = {'OdName':'Country', 'AreaName':'Continent','RegName':'Region'}, inplace = True)\n\n# for sake of consistency, let's also make all column labels of type string\ndf_can.columns = list(map(str, df_can.columns))\n\n# set the country name as index - useful for quickly looking up countries using .loc method\ndf_can.set_index('Country', inplace = True)\n\n# add total column\ndf_can['Total'] =  df_can.sum (axis = 1)\n\n# years that we will be using in this lesson - useful for plotting later on\nyears = list(map(str, range(1980, 2014)))\nprint ('data dimensions:', df_can.shape)",
      "metadata": {
        "button": false,
        "new_sheet": false,
        "run_control": {
          "read_only": false
        },
        "trusted": true
      },
      "execution_count": 8,
      "outputs": [
        {
          "name": "stderr",
          "text": "<ipython-input-8-92cc0d23d11f>:14: FutureWarning: Dropping of nuisance columns in DataFrame reductions (with 'numeric_only=None') is deprecated; in a future version this will raise TypeError.  Select only valid columns before calling the reduction.\n  df_can['Total'] =  df_can.sum (axis = 1)\n",
          "output_type": "stream"
        },
        {
          "name": "stdout",
          "text": "data dimensions: (195, 38)\n",
          "output_type": "stream"
        }
      ]
    },
    {
      "cell_type": "markdown",
      "source": "# Visualizing Data using Matplotlib<a id=\"4\"></a>\n",
      "metadata": {
        "button": false,
        "new_sheet": false,
        "run_control": {
          "read_only": false
        }
      }
    },
    {
      "cell_type": "markdown",
      "source": "Import and setup `matplotlib`:\n",
      "metadata": {
        "button": false,
        "new_sheet": false,
        "run_control": {
          "read_only": false
        }
      }
    },
    {
      "cell_type": "code",
      "source": "%matplotlib inline\n\nimport matplotlib as mpl\nimport matplotlib.pyplot as plt\nimport matplotlib.patches as mpatches # needed for waffle Charts\n\nmpl.style.use('ggplot') # optional: for ggplot-like style\n\n# check for latest version of Matplotlib\nprint ('Matplotlib version: ', mpl.__version__) # >= 2.0.0",
      "metadata": {
        "button": false,
        "new_sheet": false,
        "run_control": {
          "read_only": false
        },
        "trusted": true
      },
      "execution_count": 9,
      "outputs": [
        {
          "name": "stdout",
          "text": "Matplotlib version:  3.3.3\n",
          "output_type": "stream"
        }
      ]
    },
    {
      "cell_type": "markdown",
      "source": "# Waffle Charts <a id=\"6\"></a>\n\nA `waffle chart` is an interesting visualization that is normally created to display progress toward goals. It is commonly an effective option when you are trying to add interesting visualization features to a visual that consists mainly of cells, such as an Excel dashboard.\n",
      "metadata": {
        "button": false,
        "new_sheet": false,
        "run_control": {
          "read_only": false
        }
      }
    },
    {
      "cell_type": "markdown",
      "source": "Let's revisit the previous case study about Denmark, Norway, and Sweden.\n",
      "metadata": {
        "button": false,
        "new_sheet": false,
        "run_control": {
          "read_only": false
        }
      }
    },
    {
      "cell_type": "code",
      "source": "# let's create a new dataframe for these three countries \ndf_dsn = df_can.loc[['Denmark', 'Norway', 'Sweden'], :]\n\n# let's take a look at our dataframe\ndf_dsn",
      "metadata": {
        "button": false,
        "new_sheet": false,
        "run_control": {
          "read_only": false
        },
        "trusted": true
      },
      "execution_count": 10,
      "outputs": [
        {
          "execution_count": 10,
          "output_type": "execute_result",
          "data": {
            "text/plain": "        Continent           Region            DevName  1980  1981  1982  1983  \\\nCountry                                                                         \nDenmark    Europe  Northern Europe  Developed regions   272   293   299   106   \nNorway     Europe  Northern Europe  Developed regions   116    77   106    51   \nSweden     Europe  Northern Europe  Developed regions   281   308   222   176   \n\n         1984  1985  1986  ...  2005  2006  2007  2008  2009  2010  2011  \\\nCountry                    ...                                             \nDenmark    93    73    93  ...    62   101    97   108    81    92    93   \nNorway     31    54    56  ...    57    53    73    66    75    46    49   \nSweden    128   158   187  ...   205   139   193   165   167   159   134   \n\n         2012  2013  Total  \nCountry                     \nDenmark    94    81   3901  \nNorway     53    59   2327  \nSweden    140   140   5866  \n\n[3 rows x 38 columns]",
            "text/html": "<div>\n<style scoped>\n    .dataframe tbody tr th:only-of-type {\n        vertical-align: middle;\n    }\n\n    .dataframe tbody tr th {\n        vertical-align: top;\n    }\n\n    .dataframe thead th {\n        text-align: right;\n    }\n</style>\n<table border=\"1\" class=\"dataframe\">\n  <thead>\n    <tr style=\"text-align: right;\">\n      <th></th>\n      <th>Continent</th>\n      <th>Region</th>\n      <th>DevName</th>\n      <th>1980</th>\n      <th>1981</th>\n      <th>1982</th>\n      <th>1983</th>\n      <th>1984</th>\n      <th>1985</th>\n      <th>1986</th>\n      <th>...</th>\n      <th>2005</th>\n      <th>2006</th>\n      <th>2007</th>\n      <th>2008</th>\n      <th>2009</th>\n      <th>2010</th>\n      <th>2011</th>\n      <th>2012</th>\n      <th>2013</th>\n      <th>Total</th>\n    </tr>\n    <tr>\n      <th>Country</th>\n      <th></th>\n      <th></th>\n      <th></th>\n      <th></th>\n      <th></th>\n      <th></th>\n      <th></th>\n      <th></th>\n      <th></th>\n      <th></th>\n      <th></th>\n      <th></th>\n      <th></th>\n      <th></th>\n      <th></th>\n      <th></th>\n      <th></th>\n      <th></th>\n      <th></th>\n      <th></th>\n      <th></th>\n    </tr>\n  </thead>\n  <tbody>\n    <tr>\n      <th>Denmark</th>\n      <td>Europe</td>\n      <td>Northern Europe</td>\n      <td>Developed regions</td>\n      <td>272</td>\n      <td>293</td>\n      <td>299</td>\n      <td>106</td>\n      <td>93</td>\n      <td>73</td>\n      <td>93</td>\n      <td>...</td>\n      <td>62</td>\n      <td>101</td>\n      <td>97</td>\n      <td>108</td>\n      <td>81</td>\n      <td>92</td>\n      <td>93</td>\n      <td>94</td>\n      <td>81</td>\n      <td>3901</td>\n    </tr>\n    <tr>\n      <th>Norway</th>\n      <td>Europe</td>\n      <td>Northern Europe</td>\n      <td>Developed regions</td>\n      <td>116</td>\n      <td>77</td>\n      <td>106</td>\n      <td>51</td>\n      <td>31</td>\n      <td>54</td>\n      <td>56</td>\n      <td>...</td>\n      <td>57</td>\n      <td>53</td>\n      <td>73</td>\n      <td>66</td>\n      <td>75</td>\n      <td>46</td>\n      <td>49</td>\n      <td>53</td>\n      <td>59</td>\n      <td>2327</td>\n    </tr>\n    <tr>\n      <th>Sweden</th>\n      <td>Europe</td>\n      <td>Northern Europe</td>\n      <td>Developed regions</td>\n      <td>281</td>\n      <td>308</td>\n      <td>222</td>\n      <td>176</td>\n      <td>128</td>\n      <td>158</td>\n      <td>187</td>\n      <td>...</td>\n      <td>205</td>\n      <td>139</td>\n      <td>193</td>\n      <td>165</td>\n      <td>167</td>\n      <td>159</td>\n      <td>134</td>\n      <td>140</td>\n      <td>140</td>\n      <td>5866</td>\n    </tr>\n  </tbody>\n</table>\n<p>3 rows × 38 columns</p>\n</div>"
          },
          "metadata": {}
        }
      ]
    },
    {
      "cell_type": "markdown",
      "source": "Unfortunately, unlike R, `waffle` charts are not built into any of the Python visualization libraries. Therefore, we will learn how to create them from scratch.\n",
      "metadata": {
        "button": false,
        "new_sheet": false,
        "run_control": {
          "read_only": false
        }
      }
    },
    {
      "cell_type": "markdown",
      "source": "**Step 1.** The first step into creating a waffle chart is determing the proportion of each category with respect to the total.\n",
      "metadata": {
        "button": false,
        "new_sheet": false,
        "run_control": {
          "read_only": false
        }
      }
    },
    {
      "cell_type": "code",
      "source": "# compute the proportion of each category with respect to the total\ntotal_values = df_dsn['Total'].sum()\ncategory_proportions = df_dsn['Total'] / total_values\n\n# print out proportions\npd.DataFrame({\"Category Proportion\": category_proportions})",
      "metadata": {
        "button": false,
        "new_sheet": false,
        "run_control": {
          "read_only": false
        },
        "trusted": true
      },
      "execution_count": 11,
      "outputs": [
        {
          "execution_count": 11,
          "output_type": "execute_result",
          "data": {
            "text/plain": "         Category Proportion\nCountry                     \nDenmark             0.322557\nNorway              0.192409\nSweden              0.485034",
            "text/html": "<div>\n<style scoped>\n    .dataframe tbody tr th:only-of-type {\n        vertical-align: middle;\n    }\n\n    .dataframe tbody tr th {\n        vertical-align: top;\n    }\n\n    .dataframe thead th {\n        text-align: right;\n    }\n</style>\n<table border=\"1\" class=\"dataframe\">\n  <thead>\n    <tr style=\"text-align: right;\">\n      <th></th>\n      <th>Category Proportion</th>\n    </tr>\n    <tr>\n      <th>Country</th>\n      <th></th>\n    </tr>\n  </thead>\n  <tbody>\n    <tr>\n      <th>Denmark</th>\n      <td>0.322557</td>\n    </tr>\n    <tr>\n      <th>Norway</th>\n      <td>0.192409</td>\n    </tr>\n    <tr>\n      <th>Sweden</th>\n      <td>0.485034</td>\n    </tr>\n  </tbody>\n</table>\n</div>"
          },
          "metadata": {}
        }
      ]
    },
    {
      "cell_type": "markdown",
      "source": "**Step 2.** The second step is defining the overall size of the `waffle` chart.\n",
      "metadata": {
        "button": false,
        "new_sheet": false,
        "run_control": {
          "read_only": false
        }
      }
    },
    {
      "cell_type": "code",
      "source": "width = 40 # width of chart\nheight = 10 # height of chart\n\ntotal_num_tiles = width * height # total number of tiles\n\nprint(f'Total number of tiles is {total_num_tiles}.')",
      "metadata": {
        "button": false,
        "new_sheet": false,
        "run_control": {
          "read_only": false
        },
        "trusted": true
      },
      "execution_count": 12,
      "outputs": [
        {
          "name": "stdout",
          "text": "Total number of tiles is 400.\n",
          "output_type": "stream"
        }
      ]
    },
    {
      "cell_type": "markdown",
      "source": "**Step 3.** The third step is using the proportion of each category to determe it respective number of tiles\n",
      "metadata": {
        "button": false,
        "new_sheet": false,
        "run_control": {
          "read_only": false
        }
      }
    },
    {
      "cell_type": "code",
      "source": "# compute the number of tiles for each category\ntiles_per_category = (category_proportions * total_num_tiles).round().astype(int)\n\n# print out number of tiles per category\npd.DataFrame({\"Number of tiles\": tiles_per_category})",
      "metadata": {
        "button": false,
        "new_sheet": false,
        "run_control": {
          "read_only": false
        },
        "trusted": true
      },
      "execution_count": 13,
      "outputs": [
        {
          "execution_count": 13,
          "output_type": "execute_result",
          "data": {
            "text/plain": "         Number of tiles\nCountry                 \nDenmark              129\nNorway                77\nSweden               194",
            "text/html": "<div>\n<style scoped>\n    .dataframe tbody tr th:only-of-type {\n        vertical-align: middle;\n    }\n\n    .dataframe tbody tr th {\n        vertical-align: top;\n    }\n\n    .dataframe thead th {\n        text-align: right;\n    }\n</style>\n<table border=\"1\" class=\"dataframe\">\n  <thead>\n    <tr style=\"text-align: right;\">\n      <th></th>\n      <th>Number of tiles</th>\n    </tr>\n    <tr>\n      <th>Country</th>\n      <th></th>\n    </tr>\n  </thead>\n  <tbody>\n    <tr>\n      <th>Denmark</th>\n      <td>129</td>\n    </tr>\n    <tr>\n      <th>Norway</th>\n      <td>77</td>\n    </tr>\n    <tr>\n      <th>Sweden</th>\n      <td>194</td>\n    </tr>\n  </tbody>\n</table>\n</div>"
          },
          "metadata": {}
        }
      ]
    },
    {
      "cell_type": "markdown",
      "source": "Based on the calculated proportions, Denmark will occupy 129 tiles of the `waffle` chart, Norway will occupy 77 tiles, and Sweden will occupy 194 tiles.\n",
      "metadata": {
        "button": false,
        "new_sheet": false,
        "run_control": {
          "read_only": false
        }
      }
    },
    {
      "cell_type": "markdown",
      "source": "**Step 4.** The fourth step is creating a matrix that resembles the `waffle` chart and populating it.\n",
      "metadata": {
        "button": false,
        "new_sheet": false,
        "run_control": {
          "read_only": false
        }
      }
    },
    {
      "cell_type": "code",
      "source": "# initialize the waffle chart as an empty matrix\nwaffle_chart = np.zeros((height, width), dtype = np.uint)\n\n# define indices to loop through waffle chart\ncategory_index = 0\ntile_index = 0\n\n# populate the waffle chart\nfor col in range(width):\n    for row in range(height):\n        tile_index += 1\n\n        # if the number of tiles populated for the current category is equal to its corresponding allocated tiles...\n        if tile_index > sum(tiles_per_category[0:category_index]):\n            # ...proceed to the next category\n            category_index += 1       \n            \n        # set the class value to an integer, which increases with class\n        waffle_chart[row, col] = category_index\n        \nprint ('Waffle chart populated!')",
      "metadata": {
        "button": false,
        "new_sheet": false,
        "run_control": {
          "read_only": false
        },
        "trusted": true
      },
      "execution_count": 14,
      "outputs": [
        {
          "name": "stdout",
          "text": "Waffle chart populated!\n",
          "output_type": "stream"
        }
      ]
    },
    {
      "cell_type": "markdown",
      "source": "Let's take a peek at how the matrix looks like.\n",
      "metadata": {
        "button": false,
        "new_sheet": false,
        "run_control": {
          "read_only": false
        }
      }
    },
    {
      "cell_type": "code",
      "source": "waffle_chart",
      "metadata": {
        "button": false,
        "new_sheet": false,
        "run_control": {
          "read_only": false
        },
        "trusted": true
      },
      "execution_count": 15,
      "outputs": [
        {
          "execution_count": 15,
          "output_type": "execute_result",
          "data": {
            "text/plain": "array([[1, 1, 1, 1, 1, 1, 1, 1, 1, 1, 1, 1, 1, 2, 2, 2, 2, 2, 2, 2, 2, 3,\n        3, 3, 3, 3, 3, 3, 3, 3, 3, 3, 3, 3, 3, 3, 3, 3, 3, 3],\n       [1, 1, 1, 1, 1, 1, 1, 1, 1, 1, 1, 1, 1, 2, 2, 2, 2, 2, 2, 2, 2, 3,\n        3, 3, 3, 3, 3, 3, 3, 3, 3, 3, 3, 3, 3, 3, 3, 3, 3, 3],\n       [1, 1, 1, 1, 1, 1, 1, 1, 1, 1, 1, 1, 1, 2, 2, 2, 2, 2, 2, 2, 2, 3,\n        3, 3, 3, 3, 3, 3, 3, 3, 3, 3, 3, 3, 3, 3, 3, 3, 3, 3],\n       [1, 1, 1, 1, 1, 1, 1, 1, 1, 1, 1, 1, 1, 2, 2, 2, 2, 2, 2, 2, 2, 3,\n        3, 3, 3, 3, 3, 3, 3, 3, 3, 3, 3, 3, 3, 3, 3, 3, 3, 3],\n       [1, 1, 1, 1, 1, 1, 1, 1, 1, 1, 1, 1, 1, 2, 2, 2, 2, 2, 2, 2, 2, 3,\n        3, 3, 3, 3, 3, 3, 3, 3, 3, 3, 3, 3, 3, 3, 3, 3, 3, 3],\n       [1, 1, 1, 1, 1, 1, 1, 1, 1, 1, 1, 1, 1, 2, 2, 2, 2, 2, 2, 2, 2, 3,\n        3, 3, 3, 3, 3, 3, 3, 3, 3, 3, 3, 3, 3, 3, 3, 3, 3, 3],\n       [1, 1, 1, 1, 1, 1, 1, 1, 1, 1, 1, 1, 1, 2, 2, 2, 2, 2, 2, 2, 3, 3,\n        3, 3, 3, 3, 3, 3, 3, 3, 3, 3, 3, 3, 3, 3, 3, 3, 3, 3],\n       [1, 1, 1, 1, 1, 1, 1, 1, 1, 1, 1, 1, 1, 2, 2, 2, 2, 2, 2, 2, 3, 3,\n        3, 3, 3, 3, 3, 3, 3, 3, 3, 3, 3, 3, 3, 3, 3, 3, 3, 3],\n       [1, 1, 1, 1, 1, 1, 1, 1, 1, 1, 1, 1, 1, 2, 2, 2, 2, 2, 2, 2, 3, 3,\n        3, 3, 3, 3, 3, 3, 3, 3, 3, 3, 3, 3, 3, 3, 3, 3, 3, 3],\n       [1, 1, 1, 1, 1, 1, 1, 1, 1, 1, 1, 1, 2, 2, 2, 2, 2, 2, 2, 2, 3, 3,\n        3, 3, 3, 3, 3, 3, 3, 3, 3, 3, 3, 3, 3, 3, 3, 3, 3, 3]],\n      dtype=uint32)"
          },
          "metadata": {}
        }
      ]
    },
    {
      "cell_type": "markdown",
      "source": "As expected, the matrix consists of three categories and the total number of each category's instances matches the total number of tiles allocated to each category.\n",
      "metadata": {
        "button": false,
        "new_sheet": false,
        "run_control": {
          "read_only": false
        }
      }
    },
    {
      "cell_type": "markdown",
      "source": "**Step 5.** Map the `waffle` chart matrix into a visual.\n",
      "metadata": {
        "button": false,
        "new_sheet": false,
        "run_control": {
          "read_only": false
        }
      }
    },
    {
      "cell_type": "code",
      "source": "# instantiate a new figure object\nfig = plt.figure()\n\n# use matshow to display the waffle chart\ncolormap = plt.cm.coolwarm\nplt.matshow(waffle_chart, cmap=colormap)\nplt.colorbar()\nplt.show()",
      "metadata": {
        "button": false,
        "new_sheet": false,
        "run_control": {
          "read_only": false
        },
        "trusted": true
      },
      "execution_count": 16,
      "outputs": [
        {
          "output_type": "display_data",
          "data": {
            "text/plain": "<pyolite.display.Image at 0x41abb90>",
            "image/png": "[encoded data removed]"
          },
          "metadata": {}
        },
        {
          "output_type": "display_data",
          "data": {
            "text/plain": "<Figure size 640x480 with 0 Axes>"
          },
          "metadata": {}
        },
        {
          "output_type": "display_data",
          "data": {
            "text/plain": "<Figure size 1600x400 with 0 Axes>"
          },
          "metadata": {}
        }
      ]
    },
    {
      "cell_type": "markdown",
      "source": "**Step 6.** Prettify the chart.\n",
      "metadata": {
        "button": false,
        "new_sheet": false,
        "run_control": {
          "read_only": false
        }
      }
    },
    {
      "cell_type": "code",
      "source": "# instantiate a new figure object\nfig = plt.figure()\n\n# use matshow to display the waffle chart\ncolormap = plt.cm.coolwarm\nplt.matshow(waffle_chart, cmap=colormap)\nplt.colorbar()\n\n# get the axis\nax = plt.gca()\n\n# set minor ticks\nax.set_xticks(np.arange(-.5, (width), 1), minor=True)\nax.set_yticks(np.arange(-.5, (height), 1), minor=True)\n    \n# add gridlines based on minor ticks\nax.grid(which='minor', color='w', linestyle='-', linewidth=2)\n\nplt.xticks([])\nplt.yticks([])\nplt.show()",
      "metadata": {
        "button": false,
        "new_sheet": false,
        "run_control": {
          "read_only": false
        },
        "trusted": true
      },
      "execution_count": 17,
      "outputs": [
        {
          "output_type": "display_data",
          "data": {
            "text/plain": "<pyolite.display.Image at 0x4ab36e8>",
            "image/png": "[encoded data removed]"
          },
          "metadata": {}
        },
        {
          "output_type": "display_data",
          "data": {
            "text/plain": "<Figure size 640x480 with 0 Axes>"
          },
          "metadata": {}
        },
        {
          "output_type": "display_data",
          "data": {
            "text/plain": "<Figure size 1600x400 with 0 Axes>"
          },
          "metadata": {}
        }
      ]
    },
    {
      "cell_type": "markdown",
      "source": "**Step 7.** Create a legend and add it to chart.\n",
      "metadata": {
        "button": false,
        "new_sheet": false,
        "run_control": {
          "read_only": false
        }
      }
    },
    {
      "cell_type": "code",
      "source": "# instantiate a new figure object\nfig = plt.figure()\n\n# use matshow to display the waffle chart\ncolormap = plt.cm.coolwarm\nplt.matshow(waffle_chart, cmap=colormap)\nplt.colorbar()\n\n# get the axis\nax = plt.gca()\n\n# set minor ticks\nax.set_xticks(np.arange(-.5, (width), 1), minor=True)\nax.set_yticks(np.arange(-.5, (height), 1), minor=True)\n    \n# add gridlines based on minor ticks\nax.grid(which='minor', color='w', linestyle='-', linewidth=2)\n\nplt.xticks([])\nplt.yticks([])\n\n# compute cumulative sum of individual categories to match color schemes between chart and legend\nvalues_cumsum = np.cumsum(df_dsn['Total'])\ntotal_values = values_cumsum[len(values_cumsum) - 1]\n\n# create legend\nlegend_handles = []\nfor i, category in enumerate(df_dsn.index.values):\n    label_str = category + ' (' + str(df_dsn['Total'][i]) + ')'\n    color_val = colormap(float(values_cumsum[i])/total_values)\n    legend_handles.append(mpatches.Patch(color=color_val, label=label_str))\n\n# add legend to chart\nplt.legend(handles=legend_handles,\n           loc='lower center', \n           ncol=len(df_dsn.index.values),\n           bbox_to_anchor=(0., -0.2, 0.95, .1)\n          )\nplt.show()",
      "metadata": {
        "button": false,
        "new_sheet": false,
        "run_control": {
          "read_only": false
        },
        "trusted": true
      },
      "execution_count": 18,
      "outputs": [
        {
          "output_type": "display_data",
          "data": {
            "text/plain": "<pyolite.display.Image at 0x4ab87f8>",
            "image/png": "[encoded data removed]"
          },
          "metadata": {}
        },
        {
          "output_type": "display_data",
          "data": {
            "text/plain": "<Figure size 640x480 with 0 Axes>"
          },
          "metadata": {}
        },
        {
          "output_type": "display_data",
          "data": {
            "text/plain": "<Figure size 1600x400 with 0 Axes>"
          },
          "metadata": {}
        }
      ]
    },
    {
      "cell_type": "markdown",
      "source": "And there you go! What a good looking *delicious* `waffle` chart, don't you think?\n",
      "metadata": {
        "button": false,
        "new_sheet": false,
        "run_control": {
          "read_only": false
        }
      }
    },
    {
      "cell_type": "markdown",
      "source": "Now it would very inefficient to repeat these seven steps every time we wish to create a `waffle` chart. So let's combine all seven steps into one function called *create_waffle_chart*. This function would take the following parameters as input:\n\n> 1.  **categories**: Unique categories or classes in dataframe.\n> 2.  **values**: Values corresponding to categories or classes.\n> 3.  **height**: Defined height of waffle chart.\n> 4.  **width**: Defined width of waffle chart.\n> 5.  **colormap**: Colormap class\n> 6.  **value_sign**: In order to make our function more generalizable, we will add this parameter to address signs that could be associated with a value such as %, $, and so on. **value_sign** has a default value of empty string.\n",
      "metadata": {
        "button": false,
        "new_sheet": false,
        "run_control": {
          "read_only": false
        }
      }
    },
    {
      "cell_type": "code",
      "source": "def create_waffle_chart(categories, values, height, width, colormap, value_sign=''):\n\n    # compute the proportion of each category with respect to the total\n    total_values = sum(values)\n    category_proportions = [(float(value) / total_values) for value in values]\n\n    # compute the total number of tiles\n    total_num_tiles = width * height # total number of tiles\n    print ('Total number of tiles is', total_num_tiles)\n    \n    # compute the number of tiles for each catagory\n    tiles_per_category = [round(proportion * total_num_tiles) for proportion in category_proportions]\n\n    # print out number of tiles per category\n    for i, tiles in enumerate(tiles_per_category):\n        print (df_dsn.index.values[i] + ': ' + str(tiles))\n    \n    # initialize the waffle chart as an empty matrix\n    waffle_chart = np.zeros((height, width))\n\n    # define indices to loop through waffle chart\n    category_index = 0\n    tile_index = 0\n\n    # populate the waffle chart\n    for col in range(width):\n        for row in range(height):\n            tile_index += 1\n\n            # if the number of tiles populated for the current category \n            # is equal to its corresponding allocated tiles...\n            if tile_index > sum(tiles_per_category[0:category_index]):\n                # ...proceed to the next category\n                category_index += 1       \n            \n            # set the class value to an integer, which increases with class\n            waffle_chart[row, col] = category_index\n    \n    # instantiate a new figure object\n    fig = plt.figure()\n\n    # use matshow to display the waffle chart\n    colormap = plt.cm.coolwarm\n    plt.matshow(waffle_chart, cmap=colormap)\n    plt.colorbar()\n\n    # get the axis\n    ax = plt.gca()\n\n    # set minor ticks\n    ax.set_xticks(np.arange(-.5, (width), 1), minor=True)\n    ax.set_yticks(np.arange(-.5, (height), 1), minor=True)\n    \n    # add dridlines based on minor ticks\n    ax.grid(which='minor', color='w', linestyle='-', linewidth=2)\n\n    plt.xticks([])\n    plt.yticks([])\n\n    # compute cumulative sum of individual categories to match color schemes between chart and legend\n    values_cumsum = np.cumsum(values)\n    total_values = values_cumsum[len(values_cumsum) - 1]\n\n    # create legend\n    legend_handles = []\n    for i, category in enumerate(categories):\n        if value_sign == '%':\n            label_str = category + ' (' + str(values[i]) + value_sign + ')'\n        else:\n            label_str = category + ' (' + value_sign + str(values[i]) + ')'\n            \n        color_val = colormap(float(values_cumsum[i])/total_values)\n        legend_handles.append(mpatches.Patch(color=color_val, label=label_str))\n\n    # add legend to chart\n    plt.legend(\n        handles=legend_handles,\n        loc='lower center', \n        ncol=len(categories),\n        bbox_to_anchor=(0., -0.2, 0.95, .1)\n    )\n    plt.show()",
      "metadata": {
        "button": false,
        "new_sheet": false,
        "run_control": {
          "read_only": false
        },
        "trusted": true
      },
      "execution_count": 20,
      "outputs": []
    },
    {
      "cell_type": "markdown",
      "source": "Now to create a `waffle` chart, all we have to do is call the function `create_waffle_chart`. Let's define the input parameters:\n",
      "metadata": {
        "button": false,
        "new_sheet": false,
        "run_control": {
          "read_only": false
        }
      }
    },
    {
      "cell_type": "code",
      "source": "width = 40 # width of chart\nheight = 10 # height of chart\n\ncategories = df_dsn.index.values # categories\nvalues = df_dsn['Total'] # correponding values of categories\n\ncolormap = plt.cm.coolwarm # color map class",
      "metadata": {
        "button": false,
        "new_sheet": false,
        "run_control": {
          "read_only": false
        },
        "trusted": true
      },
      "execution_count": 21,
      "outputs": []
    },
    {
      "cell_type": "markdown",
      "source": "And now let's call our function to create a `waffle` chart.\n",
      "metadata": {
        "button": false,
        "new_sheet": false,
        "run_control": {
          "read_only": false
        }
      }
    },
    {
      "cell_type": "code",
      "source": "create_waffle_chart(categories, values, height, width, colormap)",
      "metadata": {
        "button": false,
        "new_sheet": false,
        "run_control": {
          "read_only": false
        },
        "trusted": true
      },
      "execution_count": 22,
      "outputs": [
        {
          "name": "stdout",
          "text": "Total number of tiles is 400\nDenmark: 129\nNorway: 77\nSweden: 194\n",
          "output_type": "stream"
        },
        {
          "output_type": "display_data",
          "data": {
            "text/plain": "<pyolite.display.Image at 0x4bb9f90>",
            "image/png": "[encoded data removed]"
          },
          "metadata": {}
        },
        {
          "output_type": "display_data",
          "data": {
            "text/plain": "<Figure size 640x480 with 0 Axes>"
          },
          "metadata": {}
        },
        {
          "output_type": "display_data",
          "data": {
            "text/plain": "<Figure size 1600x400 with 0 Axes>"
          },
          "metadata": {}
        }
      ]
    },
    {
      "cell_type": "markdown",
      "source": "There seems to be a new Python package for generating `waffle charts` called [PyWaffle](https://github.com/ligyxy/PyWaffle), but it looks like the repository is still being built. But feel free to check it out and play with it.\n",
      "metadata": {
        "button": false,
        "new_sheet": false,
        "run_control": {
          "read_only": false
        }
      }
    },
    {
      "cell_type": "markdown",
      "source": "# Word Clouds <a id=\"8\"></a>\n\n#### <p style=\"color: red\">Please skip this section</p>\n\n#### We are currently working on `wordcloud` compadibility.\n\n#### For now, you may download this notebook and run this section locally via `jupyterlab`.\n\n`Word` clouds (also known as text clouds or tag clouds) work in a simple way: the more a specific word appears in a source of textual data (such as a speech, blog post, or database), the bigger and bolder it appears in the word cloud.\n",
      "metadata": {
        "button": false,
        "new_sheet": false,
        "run_control": {
          "read_only": false
        }
      }
    },
    {
      "cell_type": "markdown",
      "source": "Luckily, a Python package already exists in Python for generating `word` clouds. The package, called `word_cloud` was developed by **Andreas Mueller**. You can learn more about the package by following this [link](https://github.com/amueller/word_cloud/).\n\nLet's use this package to learn how to generate a word cloud for a given text document.\n",
      "metadata": {
        "button": false,
        "new_sheet": false,
        "run_control": {
          "read_only": false
        }
      }
    },
    {
      "cell_type": "markdown",
      "source": "First, let's install the package.\n",
      "metadata": {
        "button": false,
        "new_sheet": false,
        "run_control": {
          "read_only": false
        }
      }
    },
    {
      "cell_type": "code",
      "source": "# # install wordcloud\n# await piplite.install(['wordcloud==1.8.1'])\n\n# # import package and its set of stopwords\n# from wordcloud import WordCloud, STOPWORDS\n\n# print ('Wordcloud is installed and imported!')",
      "metadata": {
        "button": false,
        "new_sheet": false,
        "run_control": {
          "read_only": false
        },
        "trusted": true
      },
      "execution_count": null,
      "outputs": []
    },
    {
      "cell_type": "markdown",
      "source": "`Word` clouds are commonly used to perform high-level analysis and visualization of text data. Accordinly, let's digress from the immigration dataset and work with an example that involves analyzing text data. Let's try to analyze a short novel written by **Lewis Carroll** titled *Alice's Adventures in Wonderland*. Let's go ahead and download a *.txt* file of the novel.\n",
      "metadata": {
        "button": false,
        "new_sheet": false,
        "run_control": {
          "read_only": false
        }
      }
    },
    {
      "cell_type": "code",
      "source": "# import urllib\n\n# # open the file and read it into a variable alice_novel\n# alice_novel = urllib.request.urlopen('https://cf-courses-data.s3.us.cloud-object-storage.appdomain.cloud/IBMDeveloperSkillsNetwork-DV0101EN-SkillsNetwork/Data%20Files/alice_novel.txt').read().decode(\"utf-8\")",
      "metadata": {
        "button": false,
        "new_sheet": false,
        "run_control": {
          "read_only": false
        }
      },
      "execution_count": null,
      "outputs": []
    },
    {
      "cell_type": "markdown",
      "source": "Next, let's use the stopwords that we imported from `word_cloud`. We use the function *set* to remove any redundant stopwords.\n",
      "metadata": {
        "button": false,
        "new_sheet": false,
        "run_control": {
          "read_only": false
        }
      }
    },
    {
      "cell_type": "code",
      "source": "# stopwords = set(STOPWORDS)",
      "metadata": {
        "button": false,
        "new_sheet": false,
        "run_control": {
          "read_only": false
        }
      },
      "execution_count": null,
      "outputs": []
    },
    {
      "cell_type": "markdown",
      "source": "Create a word cloud object and generate a word cloud. For simplicity, let's generate a word cloud using only the first 2000 words in the novel.\n",
      "metadata": {
        "button": false,
        "new_sheet": false,
        "run_control": {
          "read_only": false
        }
      }
    },
    {
      "cell_type": "code",
      "source": "# # instantiate a word cloud object\n# alice_wc = WordCloud(\n#     background_color='white',\n#     max_words=2000,\n#     stopwords=stopwords\n# )\n\n# # generate the word cloud\n# alice_wc.generate(alice_novel)",
      "metadata": {
        "button": false,
        "new_sheet": false,
        "run_control": {
          "read_only": false
        }
      },
      "execution_count": null,
      "outputs": []
    },
    {
      "cell_type": "markdown",
      "source": "Awesome! Now that the `word` cloud is created, let's visualize it.\n",
      "metadata": {
        "button": false,
        "new_sheet": false,
        "run_control": {
          "read_only": false
        }
      }
    },
    {
      "cell_type": "code",
      "source": "# # display the word cloud\n# plt.imshow(alice_wc, interpolation='bilinear')\n# plt.axis('off')\n# plt.show()",
      "metadata": {
        "button": false,
        "new_sheet": false,
        "run_control": {
          "read_only": false
        },
        "scrolled": true
      },
      "execution_count": null,
      "outputs": []
    },
    {
      "cell_type": "markdown",
      "source": "Interesting! So in the first 2000 words in the novel, the most common words are **Alice**, **said**, **little**, **Queen**, and so on. Let's resize the cloud so that we can see the less frequent words a little better.\n",
      "metadata": {
        "button": false,
        "new_sheet": false,
        "run_control": {
          "read_only": false
        }
      }
    },
    {
      "cell_type": "code",
      "source": "# fig = plt.figure(figsize=(14, 18))\n\n# # display the cloud\n# plt.imshow(alice_wc, interpolation='bilinear')\n# plt.axis('off')\n# plt.show()",
      "metadata": {
        "button": false,
        "new_sheet": false,
        "run_control": {
          "read_only": false
        }
      },
      "execution_count": null,
      "outputs": []
    },
    {
      "cell_type": "markdown",
      "source": "Much better! However, **said** isn't really an informative word. So let's add it to our stopwords and re-generate the cloud.\n",
      "metadata": {
        "button": false,
        "new_sheet": false,
        "run_control": {
          "read_only": false
        }
      }
    },
    {
      "cell_type": "code",
      "source": "# stopwords.add('said') # add the words said to stopwords\n\n# # re-generate the word cloud\n# alice_wc.generate(alice_novel)\n\n# # display the cloud\n# fig = plt.figure(figsize=(14, 18))\n\n# plt.imshow(alice_wc, interpolation='bilinear')\n# plt.axis('off')\n# plt.show()",
      "metadata": {
        "button": false,
        "new_sheet": false,
        "run_control": {
          "read_only": false
        }
      },
      "execution_count": null,
      "outputs": []
    },
    {
      "cell_type": "markdown",
      "source": "Excellent! This looks really interesting! Another cool thing you can implement with the `word_cloud` package is superimposing the words onto a mask of any shape. Let's use a mask of Alice and her rabbit. We already created the mask for you, so let's go ahead and download it and call it *alice_mask.png*.\n",
      "metadata": {
        "button": false,
        "new_sheet": false,
        "run_control": {
          "read_only": false
        }
      }
    },
    {
      "cell_type": "code",
      "source": "# save mask to alice_mask\n# alice_mask = np.array(Image.open(urllib.request.urlopen('https://cf-courses-data.s3.us.cloud-object-storage.appdomain.cloud/IBMDeveloperSkillsNetwork-DV0101EN-SkillsNetwork/labs/Module%204/images/alice_mask.png')))",
      "metadata": {
        "button": false,
        "new_sheet": false,
        "run_control": {
          "read_only": false
        }
      },
      "execution_count": null,
      "outputs": []
    },
    {
      "cell_type": "markdown",
      "source": "Let's take a look at how the mask looks like.\n",
      "metadata": {
        "button": false,
        "new_sheet": false,
        "run_control": {
          "read_only": false
        }
      }
    },
    {
      "cell_type": "code",
      "source": "# fig = plt.figure(figsize=(14, 18))\n\n# plt.imshow(alice_mask, cmap=plt.cm.gray, interpolation='bilinear')\n# plt.axis('off')\n# plt.show()",
      "metadata": {
        "button": false,
        "new_sheet": false,
        "run_control": {
          "read_only": false
        }
      },
      "execution_count": null,
      "outputs": []
    },
    {
      "cell_type": "markdown",
      "source": "Shaping the `word` cloud according to the mask is straightforward using `word_cloud` package. For simplicity, we will continue using the first 2000 words in the novel.\n",
      "metadata": {
        "button": false,
        "new_sheet": false,
        "run_control": {
          "read_only": false
        }
      }
    },
    {
      "cell_type": "code",
      "source": "# # instantiate a word cloud object\n# alice_wc = WordCloud(background_color='white', max_words=2000, mask=alice_mask, stopwords=stopwords)\n\n# # generate the word cloud\n# alice_wc.generate(alice_novel)\n\n# # display the word cloud\n# fig = plt.figure(figsize=(14, 18))\n\n# plt.imshow(alice_wc, interpolation='bilinear')\n# plt.axis('off')\n# plt.show()",
      "metadata": {
        "button": false,
        "new_sheet": false,
        "run_control": {
          "read_only": false
        }
      },
      "execution_count": null,
      "outputs": []
    },
    {
      "cell_type": "markdown",
      "source": "Really impressive!\n",
      "metadata": {
        "button": false,
        "new_sheet": false,
        "run_control": {
          "read_only": false
        }
      }
    },
    {
      "cell_type": "markdown",
      "source": "Unfortunately, our immigration data does not have any text data, but where there is a will there is a way. Let's generate sample text data from our immigration dataset, say text data of 90 words.\n",
      "metadata": {
        "button": false,
        "new_sheet": false,
        "run_control": {
          "read_only": false
        }
      }
    },
    {
      "cell_type": "markdown",
      "source": "Let's recall how our data looks like.\n",
      "metadata": {
        "button": false,
        "new_sheet": false,
        "run_control": {
          "read_only": false
        }
      }
    },
    {
      "cell_type": "code",
      "source": "# df_can.head()",
      "metadata": {
        "button": false,
        "new_sheet": false,
        "run_control": {
          "read_only": false
        }
      },
      "execution_count": null,
      "outputs": []
    },
    {
      "cell_type": "markdown",
      "source": "And what was the total immigration from 1980 to 2013?\n",
      "metadata": {
        "button": false,
        "new_sheet": false,
        "run_control": {
          "read_only": false
        }
      }
    },
    {
      "cell_type": "code",
      "source": "# total_immigration = df_can['Total'].sum()\n# total_immigration",
      "metadata": {
        "button": false,
        "new_sheet": false,
        "run_control": {
          "read_only": false
        }
      },
      "execution_count": null,
      "outputs": []
    },
    {
      "cell_type": "markdown",
      "source": "Using countries with single-word names, let's duplicate each country's name based on how much they contribute to the total immigration.\n",
      "metadata": {
        "button": false,
        "new_sheet": false,
        "run_control": {
          "read_only": false
        }
      }
    },
    {
      "cell_type": "code",
      "source": "# max_words = 90\n# word_string = ''\n# for country in df_can.index.values:\n#     # check if country's name is a single-word name\n#     if country.count(\" \") == 0:\n#         repeat_num_times = int(df_can.loc[country, 'Total'] / total_immigration * max_words)\n#         word_string = word_string + ((country + ' ') * repeat_num_times)\n\n# # display the generated text\n# word_string",
      "metadata": {
        "button": false,
        "new_sheet": false,
        "run_control": {
          "read_only": false
        }
      },
      "execution_count": null,
      "outputs": []
    },
    {
      "cell_type": "markdown",
      "source": "We are not dealing with any stopwords here, so there is no need to pass them when creating the word cloud.\n",
      "metadata": {
        "button": false,
        "new_sheet": false,
        "run_control": {
          "read_only": false
        }
      }
    },
    {
      "cell_type": "code",
      "source": "# # create the word cloud\n# wordcloud = WordCloud(background_color='white').generate(word_string)\n\n# print('Word cloud created!')",
      "metadata": {
        "button": false,
        "new_sheet": false,
        "run_control": {
          "read_only": false
        }
      },
      "execution_count": null,
      "outputs": []
    },
    {
      "cell_type": "code",
      "source": "# # display the cloud\n# plt.figure(figsize=(14, 18))\n\n# plt.imshow(wordcloud, interpolation='bilinear')\n# plt.axis('off')\n# plt.show()",
      "metadata": {
        "button": false,
        "new_sheet": false,
        "run_control": {
          "read_only": false
        }
      },
      "execution_count": null,
      "outputs": []
    },
    {
      "cell_type": "markdown",
      "source": "According to the above word cloud, it looks like the majority of the people who immigrated came from one of 15 countries that are displayed by the word cloud. One cool visual that you could build, is perhaps using the map of Canada and a mask and superimposing the word cloud on top of the map of Canada. That would be an interesting visual to build!\n",
      "metadata": {
        "button": false,
        "new_sheet": false,
        "run_control": {
          "read_only": false
        }
      }
    },
    {
      "cell_type": "markdown",
      "source": "# Regression Plots <a id=\"10\"></a>\n\n> Seaborn is a Python visualization library based on matplotlib. It provides a high-level interface for drawing attractive statistical graphics. You can learn more about *seaborn* by following this [link](https://seaborn.pydata.org/?utm_medium=Exinfluencer&utm_source=Exinfluencer&utm_content=000026UJ&utm_term=10006555&utm_id=NA-SkillsNetwork-Channel-SkillsNetworkCoursesIBMDeveloperSkillsNetworkDV0101ENSkillsNetwork20297740-2021-01-01) and more about *seaborn* regression plots by following this [link](http://seaborn.pydata.org/generated/seaborn.regplot.html?utm_medium=Exinfluencer&utm_source=Exinfluencer&utm_content=000026UJ&utm_term=10006555&utm_id=NA-SkillsNetwork-Channel-SkillsNetworkCoursesIBMDeveloperSkillsNetworkDV0101ENSkillsNetwork20297740-2021-01-01).\n",
      "metadata": {
        "button": false,
        "new_sheet": false,
        "run_control": {
          "read_only": false
        }
      }
    },
    {
      "cell_type": "markdown",
      "source": "In lab *Pie Charts, Box Plots, Scatter Plots, and Bubble Plots*, we learned how to create a scatter plot and then fit a regression line. It took \\~20 lines of code to create the scatter plot along with the regression fit. In this final section, we will explore *seaborn* and see how efficient it is to create regression lines and fits using this library!\n",
      "metadata": {
        "button": false,
        "new_sheet": false,
        "run_control": {
          "read_only": false
        }
      }
    },
    {
      "cell_type": "markdown",
      "source": "Let's first install *seaborn*\n",
      "metadata": {
        "button": false,
        "new_sheet": false,
        "run_control": {
          "read_only": false
        }
      }
    },
    {
      "cell_type": "code",
      "source": "# install seaborn\n# !pip3 install seaborn\n\n# import library\nimport seaborn as sns\n\nprint('Seaborn installed and imported!')",
      "metadata": {
        "button": false,
        "new_sheet": false,
        "run_control": {
          "read_only": false
        },
        "trusted": true
      },
      "execution_count": 23,
      "outputs": [
        {
          "name": "stdout",
          "text": "Seaborn installed and imported!\n",
          "output_type": "stream"
        }
      ]
    },
    {
      "cell_type": "markdown",
      "source": "Create a new dataframe that stores that total number of landed immigrants to Canada per year from 1980 to 2013.\n",
      "metadata": {
        "button": false,
        "new_sheet": false,
        "run_control": {
          "read_only": false
        }
      }
    },
    {
      "cell_type": "code",
      "source": "# we can use the sum() method to get the total population per year\ndf_tot = pd.DataFrame(df_can[years].sum(axis=0))\n\n# change the years to type float (useful for regression later on)\ndf_tot.index = map(float, df_tot.index)\n\n# reset the index to put in back in as a column in the df_tot dataframe\ndf_tot.reset_index(inplace=True)\n\n# rename columns\ndf_tot.columns = ['year', 'total']\n\n# view the final dataframe\ndf_tot.head()",
      "metadata": {
        "button": false,
        "new_sheet": false,
        "run_control": {
          "read_only": false
        },
        "trusted": true
      },
      "execution_count": 24,
      "outputs": [
        {
          "execution_count": 24,
          "output_type": "execute_result",
          "data": {
            "text/plain": "     year   total\n0  1980.0   99137\n1  1981.0  110563\n2  1982.0  104271\n3  1983.0   75550\n4  1984.0   73417",
            "text/html": "<div>\n<style scoped>\n    .dataframe tbody tr th:only-of-type {\n        vertical-align: middle;\n    }\n\n    .dataframe tbody tr th {\n        vertical-align: top;\n    }\n\n    .dataframe thead th {\n        text-align: right;\n    }\n</style>\n<table border=\"1\" class=\"dataframe\">\n  <thead>\n    <tr style=\"text-align: right;\">\n      <th></th>\n      <th>year</th>\n      <th>total</th>\n    </tr>\n  </thead>\n  <tbody>\n    <tr>\n      <th>0</th>\n      <td>1980.0</td>\n      <td>99137</td>\n    </tr>\n    <tr>\n      <th>1</th>\n      <td>1981.0</td>\n      <td>110563</td>\n    </tr>\n    <tr>\n      <th>2</th>\n      <td>1982.0</td>\n      <td>104271</td>\n    </tr>\n    <tr>\n      <th>3</th>\n      <td>1983.0</td>\n      <td>75550</td>\n    </tr>\n    <tr>\n      <th>4</th>\n      <td>1984.0</td>\n      <td>73417</td>\n    </tr>\n  </tbody>\n</table>\n</div>"
          },
          "metadata": {}
        }
      ]
    },
    {
      "cell_type": "markdown",
      "source": "With *seaborn*, generating a regression plot is as simple as calling the **regplot** function.\n",
      "metadata": {
        "button": false,
        "new_sheet": false,
        "run_control": {
          "read_only": false
        }
      }
    },
    {
      "cell_type": "code",
      "source": "sns.regplot(x='year', y='total', data=df_tot)",
      "metadata": {
        "button": false,
        "new_sheet": false,
        "run_control": {
          "read_only": false
        },
        "scrolled": true,
        "trusted": true
      },
      "execution_count": 25,
      "outputs": [
        {
          "execution_count": 25,
          "output_type": "execute_result",
          "data": {
            "text/plain": "<AxesSubplot:xlabel='year', ylabel='total'>"
          },
          "metadata": {}
        },
        {
          "output_type": "display_data",
          "data": {
            "text/plain": "<Figure size 640x480 with 1 Axes>",
            "image/png": "[encoded data removed]"
          },
          "metadata": {}
        }
      ]
    },
    {
      "cell_type": "markdown",
      "source": "This is not magic; it is *seaborn*! You can also customize the color of the scatter plot and regression line. Let's change the color to green.\n",
      "metadata": {
        "button": false,
        "new_sheet": false,
        "run_control": {
          "read_only": false
        }
      }
    },
    {
      "cell_type": "code",
      "source": "sns.regplot(x='year', y='total', data=df_tot, color='green')\nplt.show()",
      "metadata": {
        "button": false,
        "new_sheet": false,
        "run_control": {
          "read_only": false
        },
        "trusted": true
      },
      "execution_count": null,
      "outputs": []
    },
    {
      "cell_type": "markdown",
      "source": "You can always customize the marker shape, so instead of circular markers, let's use `+`.\n",
      "metadata": {
        "button": false,
        "new_sheet": false,
        "run_control": {
          "read_only": false
        }
      }
    },
    {
      "cell_type": "code",
      "source": "ax = sns.regplot(x='year', y='total', data=df_tot, color='green', marker='+')\nplt.show()",
      "metadata": {
        "button": false,
        "new_sheet": false,
        "run_control": {
          "read_only": false
        },
        "trusted": true
      },
      "execution_count": null,
      "outputs": []
    },
    {
      "cell_type": "markdown",
      "source": "Let's blow up the plot a little so that it is more appealing to the sight.\n",
      "metadata": {
        "button": false,
        "new_sheet": false,
        "run_control": {
          "read_only": false
        }
      }
    },
    {
      "cell_type": "code",
      "source": "plt.figure(figsize=(15, 10))\nsns.regplot(x='year', y='total', data=df_tot, color='green', marker='+')\nplt.show()",
      "metadata": {
        "button": false,
        "new_sheet": false,
        "run_control": {
          "read_only": false
        },
        "trusted": true
      },
      "execution_count": null,
      "outputs": []
    },
    {
      "cell_type": "markdown",
      "source": "And let's increase the size of markers so they match the new size of the figure, and add a title and x- and y-labels.\n",
      "metadata": {
        "button": false,
        "new_sheet": false,
        "run_control": {
          "read_only": false
        }
      }
    },
    {
      "cell_type": "code",
      "source": "plt.figure(figsize=(15, 10))\nax = sns.regplot(x='year', y='total', data=df_tot, color='green', marker='+', scatter_kws={'s': 200})\n\nax.set(xlabel='Year', ylabel='Total Immigration') # add x- and y-labels\nax.set_title('Total Immigration to Canada from 1980 - 2013') # add title\nplt.show()",
      "metadata": {
        "button": false,
        "new_sheet": false,
        "run_control": {
          "read_only": false
        },
        "trusted": true
      },
      "execution_count": null,
      "outputs": []
    },
    {
      "cell_type": "markdown",
      "source": "And finally increase the font size of the tickmark labels, the title, and the x- and y-labels so they don't feel left out!\n",
      "metadata": {
        "button": false,
        "new_sheet": false,
        "run_control": {
          "read_only": false
        }
      }
    },
    {
      "cell_type": "code",
      "source": "plt.figure(figsize=(15, 10))\n\nsns.set(font_scale=1.5)\n\nax = sns.regplot(x='year', y='total', data=df_tot, color='green', marker='+', scatter_kws={'s': 200})\nax.set(xlabel='Year', ylabel='Total Immigration')\nax.set_title('Total Immigration to Canada from 1980 - 2013')\nplt.show()",
      "metadata": {
        "button": false,
        "new_sheet": false,
        "run_control": {
          "read_only": false
        },
        "trusted": true
      },
      "execution_count": null,
      "outputs": []
    },
    {
      "cell_type": "markdown",
      "source": "Amazing! A complete scatter plot with a regression fit with 5 lines of code only. Isn't this really amazing?\n",
      "metadata": {
        "button": false,
        "new_sheet": false,
        "run_control": {
          "read_only": false
        }
      }
    },
    {
      "cell_type": "markdown",
      "source": "If you are not a big fan of the purple background, you can easily change the style to a white plain background.\n",
      "metadata": {
        "button": false,
        "new_sheet": false,
        "run_control": {
          "read_only": false
        }
      }
    },
    {
      "cell_type": "code",
      "source": "plt.figure(figsize=(15, 10))\n\nsns.set(font_scale=1.5)\nsns.set_style('ticks')  # change background to white background\n\nax = sns.regplot(x='year', y='total', data=df_tot, color='green', marker='+', scatter_kws={'s': 200})\nax.set(xlabel='Year', ylabel='Total Immigration')\nax.set_title('Total Immigration to Canada from 1980 - 2013')\nplt.show()",
      "metadata": {
        "button": false,
        "new_sheet": false,
        "run_control": {
          "read_only": false
        },
        "trusted": true
      },
      "execution_count": null,
      "outputs": []
    },
    {
      "cell_type": "markdown",
      "source": "Or to a white background with gridlines.\n",
      "metadata": {
        "button": false,
        "new_sheet": false,
        "run_control": {
          "read_only": false
        }
      }
    },
    {
      "cell_type": "code",
      "source": "plt.figure(figsize=(15, 10))\n\nsns.set(font_scale=1.5)\nsns.set_style('whitegrid')\n\nax = sns.regplot(x='year', y='total', data=df_tot, color='green', marker='+', scatter_kws={'s': 200})\nax.set(xlabel='Year', ylabel='Total Immigration')\nax.set_title('Total Immigration to Canada from 1980 - 2013')\nplt.show()",
      "metadata": {
        "button": false,
        "new_sheet": false,
        "run_control": {
          "read_only": false
        },
        "trusted": true
      },
      "execution_count": null,
      "outputs": []
    },
    {
      "cell_type": "markdown",
      "source": "**Question**: Use seaborn to create a scatter plot with a regression line to visualize the total immigration from Denmark, Sweden, and Norway to Canada from 1980 to 2013.\n",
      "metadata": {
        "button": false,
        "new_sheet": false,
        "run_control": {
          "read_only": false
        }
      }
    },
    {
      "cell_type": "code",
      "source": "### type your answer here\n\n\n\n",
      "metadata": {
        "button": false,
        "new_sheet": false,
        "run_control": {
          "read_only": false
        }
      },
      "execution_count": null,
      "outputs": []
    },
    {
      "cell_type": "markdown",
      "source": "<details><summary>Click here for a sample python solution</summary>\n\n```python\n    #The correct answer is:\n    \n    # create df_countries dataframe\n    df_countries = df_can.loc[['Denmark', 'Norway', 'Sweden'], years].transpose()\n\n    # create df_total by summing across three countries for each year\n    df_total = pd.DataFrame(df_countries.sum(axis=1))\n\n    # reset index in place\n    df_total.reset_index(inplace=True)\n\n    # rename columns\n    df_total.columns = ['year', 'total']\n\n    # change column year from string to int to create scatter plot\n    df_total['year'] = df_total['year'].astype(int)\n\n    # define figure size\n    plt.figure(figsize=(15, 10))\n\n    # define background style and font size\n    sns.set(font_scale=1.5)\n    sns.set_style('whitegrid')\n\n    # generate plot and add title and axes labels\n    ax = sns.regplot(x='year', y='total', data=df_total, color='green', marker='+', scatter_kws={'s': 200})\n    ax.set(xlabel='Year', ylabel='Total Immigration')\n    ax.set_title('Total Immigrationn from Denmark, Sweden, and Norway to Canada from 1980 - 2013')\n\n```\n\n</details>\n",
      "metadata": {
        "button": false,
        "new_sheet": false,
        "run_control": {
          "read_only": false
        }
      }
    },
    {
      "cell_type": "markdown",
      "source": "### Thank you for completing this lab!\n\n## Author\n\n<a href=\"https://www.linkedin.com/in/aklson/?utm_medium=Exinfluencer&utm_source=Exinfluencer&utm_content=000026UJ&utm_term=10006555&utm_id=NA-SkillsNetwork-Channel-SkillsNetworkCoursesIBMDeveloperSkillsNetworkDV0101ENSkillsNetwork20297740-2021-01-01\" target=\"_blank\">Alex Aklson</a>\n\n## Change Log\n\n| Date (YYYY-MM-DD) | Version | Changed By    | Change Description                 |\n| ----------------- | ------- | ------------- | ---------------------------------- |\n| 2021-05-19        | 2.3     | Weiqing Wang  | Fixed typos and code smells        |\n| 2021-01-21        | 2.2     | Lakshmi Holla | Updated TOC markdown cell          |\n| 2020-11-03        | 2.1     | Lakshmi Holla | Changed URL of excel file          |\n| 2020-08-27        | 2.0     | Lavanya       | Moved lab to course repo in GitLab |\n\n## <h3 align=\"center\"> © IBM Corporation 2020. All rights reserved. <h3/>\n",
      "metadata": {
        "button": false,
        "new_sheet": false,
        "run_control": {
          "read_only": false
        }
      }
    }
  ]
}